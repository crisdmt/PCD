{
 "cells": [
  {
   "cell_type": "markdown",
   "id": "dcd39fa7-d022-4060-9298-15f704efff36",
   "metadata": {},
   "source": [
    "### SECOND PYTHON PROGRAM"
   ]
  },
  {
   "cell_type": "markdown",
   "id": "3ca95877-76bd-47b4-8f37-5738e13fe548",
   "metadata": {},
   "source": [
    "1. Cuantos cores / cpu´s tiene su equipo"
   ]
  },
  {
   "cell_type": "code",
   "execution_count": 2,
   "id": "7a8947f2-560a-4976-af39-e4dc774c79cf",
   "metadata": {},
   "outputs": [],
   "source": [
    "import os"
   ]
  },
  {
   "cell_type": "code",
   "execution_count": 3,
   "id": "bd7639f6-1043-4998-93ec-f4ca7f342a6a",
   "metadata": {},
   "outputs": [
    {
     "data": {
      "text/plain": [
       "8"
      ]
     },
     "execution_count": 3,
     "metadata": {},
     "output_type": "execute_result"
    }
   ],
   "source": [
    "os.cpu_count()"
   ]
  },
  {
   "cell_type": "markdown",
   "id": "87ba5a09-d6d7-4c06-8b60-77b5eac70aac",
   "metadata": {},
   "source": [
    "2. Cuantos cores / cpu´s físicos tiene su equipo"
   ]
  },
  {
   "cell_type": "code",
   "execution_count": 5,
   "id": "5fc1f35c-6a4a-4865-bec0-e8c176751c2d",
   "metadata": {},
   "outputs": [
    {
     "name": "stdout",
     "output_type": "stream",
     "text": [
      "Mi pc tiene 4.0\n"
     ]
    }
   ],
   "source": [
    "print(\"Mi pc tiene \" + str(os.cpu_count()/2)) #PARA Q FUNCIONE TIENES QUE PONERLO COMO STRING LO QUE ES UN INT"
   ]
  },
  {
   "cell_type": "markdown",
   "id": "bba9eb97-bb41-4724-8637-de8d1e5e8a63",
   "metadata": {},
   "source": [
    "3. Cree una función con el objeto de mantener su cpu activa al menos 10 segundos"
   ]
  },
  {
   "cell_type": "code",
   "execution_count": 7,
   "id": "8e625403-7e87-40c2-b261-5bd61f5102b1",
   "metadata": {},
   "outputs": [],
   "source": [
    "def gastar_tiempo():\n",
    "    while True:\n",
    "        pass #Pasa"
   ]
  },
  {
   "cell_type": "markdown",
   "id": "e0b4261a-7c65-4181-b1c5-8ad296ed3ebf",
   "metadata": {},
   "source": [
    "4. Que version de Python tienes instalada"
   ]
  },
  {
   "cell_type": "code",
   "execution_count": 8,
   "id": "825fb1e4-2b8d-411a-8a22-3895caa802e3",
   "metadata": {},
   "outputs": [],
   "source": [
    "import platform as pl"
   ]
  },
  {
   "cell_type": "code",
   "execution_count": 9,
   "id": "226783c2-8dac-4803-8d81-fb4a2ff68bf7",
   "metadata": {},
   "outputs": [
    {
     "data": {
      "text/plain": [
       "'3.8.8'"
      ]
     },
     "execution_count": 9,
     "metadata": {},
     "output_type": "execute_result"
    }
   ],
   "source": [
    "pl.python_version()"
   ]
  },
  {
   "cell_type": "code",
   "execution_count": 10,
   "id": "cff04b45-b271-41d1-b0d7-7ef904708f70",
   "metadata": {},
   "outputs": [
    {
     "data": {
      "text/plain": [
       "'crisd'"
      ]
     },
     "execution_count": 10,
     "metadata": {},
     "output_type": "execute_result"
    }
   ],
   "source": [
    "os.getlogin()"
   ]
  },
  {
   "cell_type": "markdown",
   "id": "782b0e32-0ca2-4af2-8886-48bdb13beefe",
   "metadata": {},
   "source": [
    "5. El bus de su maquina es de 32 o 64"
   ]
  },
  {
   "cell_type": "code",
   "execution_count": 11,
   "id": "6f1926d5-db3d-4427-a5c2-52ae1eef7ec3",
   "metadata": {},
   "outputs": [
    {
     "data": {
      "text/plain": [
       "('64bit', 'WindowsPE')"
      ]
     },
     "execution_count": 11,
     "metadata": {},
     "output_type": "execute_result"
    }
   ],
   "source": [
    "pl.architecture()"
   ]
  },
  {
   "cell_type": "markdown",
   "id": "ee980266-6039-4150-b26e-467abe2eb79d",
   "metadata": {},
   "source": [
    "6. Cree una funcion que imprima del 1 al 10"
   ]
  },
  {
   "cell_type": "code",
   "execution_count": 12,
   "id": "45baa130-ddb1-440a-a9c2-84bbc068b3b5",
   "metadata": {},
   "outputs": [],
   "source": [
    "def contar():\n",
    "    for i in range(10):\n",
    "        print (i)"
   ]
  },
  {
   "cell_type": "code",
   "execution_count": 13,
   "id": "4655142c-1d96-4bb6-b316-16011b8f367f",
   "metadata": {},
   "outputs": [
    {
     "name": "stdout",
     "output_type": "stream",
     "text": [
      "0\n",
      "1\n",
      "2\n",
      "3\n",
      "4\n",
      "5\n",
      "6\n",
      "7\n",
      "8\n",
      "9\n"
     ]
    }
   ],
   "source": [
    "contar()"
   ]
  },
  {
   "cell_type": "markdown",
   "id": "7a8d84c4-31ea-4ea3-9c4d-815fc982fe15",
   "metadata": {
    "tags": []
   },
   "source": [
    "7. Ejecute concurrentemente 20 veces la funcion antes mencionada"
   ]
  },
  {
   "cell_type": "code",
   "execution_count": 14,
   "id": "c5f91ccb-3d71-4626-a38e-d49f234a9bc0",
   "metadata": {},
   "outputs": [],
   "source": [
    "import threading as th"
   ]
  },
  {
   "cell_type": "code",
   "execution_count": 15,
   "id": "b16486dc-900f-4406-8dd5-4909dfbdc585",
   "metadata": {},
   "outputs": [
    {
     "name": "stdout",
     "output_type": "stream",
     "text": [
      "0\n",
      "1\n",
      "2\n",
      "3\n",
      "4\n",
      "5\n",
      "6\n",
      "7\n",
      "8\n",
      "9\n"
     ]
    }
   ],
   "source": [
    "th.Thread(target = contar()).start()"
   ]
  },
  {
   "cell_type": "code",
   "execution_count": 16,
   "id": "df92d24c-990a-4be2-9967-f96d37ecfa75",
   "metadata": {},
   "outputs": [
    {
     "name": "stdout",
     "output_type": "stream",
     "text": [
      "0\n",
      "1\n",
      "2\n",
      "3\n",
      "4\n",
      "5\n",
      "6\n",
      "7\n",
      "8\n",
      "9\n",
      "0\n",
      "1\n",
      "2\n",
      "3\n",
      "4\n",
      "5\n",
      "6\n",
      "7\n",
      "8\n",
      "9\n",
      "0\n",
      "1\n",
      "2\n",
      "3\n",
      "4\n",
      "5\n",
      "6\n",
      "7\n",
      "8\n",
      "9\n",
      "0\n",
      "1\n",
      "2\n",
      "3\n",
      "4\n",
      "5\n",
      "6\n",
      "7\n",
      "8\n",
      "9\n",
      "0\n",
      "1\n",
      "2\n",
      "3\n",
      "4\n",
      "5\n",
      "6\n",
      "7\n",
      "8\n",
      "9\n",
      "0\n",
      "1\n",
      "2\n",
      "3\n",
      "4\n",
      "5\n",
      "6\n",
      "7\n",
      "8\n",
      "9\n",
      "0\n",
      "1\n",
      "2\n",
      "3\n",
      "4\n",
      "5\n",
      "6\n",
      "7\n",
      "8\n",
      "9\n",
      "0\n",
      "1\n",
      "2\n",
      "3\n",
      "4\n",
      "5\n",
      "6\n",
      "7\n",
      "8\n",
      "9\n",
      "0\n",
      "1\n",
      "2\n",
      "3\n",
      "4\n",
      "5\n",
      "6\n",
      "7\n",
      "8\n",
      "9\n",
      "0\n",
      "1\n",
      "2\n",
      "3\n",
      "4\n",
      "5\n",
      "6\n",
      "7\n",
      "8\n",
      "9\n",
      "0\n",
      "1\n",
      "2\n",
      "3\n",
      "4\n",
      "5\n",
      "6\n",
      "7\n",
      "8\n",
      "9\n",
      "0\n",
      "1\n",
      "2\n",
      "3\n",
      "4\n",
      "5\n",
      "6\n",
      "7\n",
      "8\n",
      "9\n",
      "0\n",
      "1\n",
      "2\n",
      "3\n",
      "4\n",
      "5\n",
      "6\n",
      "7\n",
      "8\n",
      "9\n",
      "0\n",
      "1\n",
      "2\n",
      "3\n",
      "4\n",
      "5\n",
      "6\n",
      "7\n",
      "8\n",
      "9\n",
      "0\n",
      "1\n",
      "2\n",
      "3\n",
      "4\n",
      "5\n",
      "6\n",
      "7\n",
      "8\n",
      "9\n",
      "0\n",
      "1\n",
      "2\n",
      "3\n",
      "4\n",
      "5\n",
      "6\n",
      "7\n",
      "8\n",
      "9\n",
      "0\n",
      "1\n",
      "2\n",
      "3\n",
      "4\n",
      "5\n",
      "6\n",
      "7\n",
      "8\n",
      "9\n",
      "0\n",
      "1\n",
      "2\n",
      "3\n",
      "4\n",
      "5\n",
      "6\n",
      "7\n",
      "8\n",
      "9\n",
      "0\n",
      "1\n",
      "2\n",
      "3\n",
      "4\n",
      "5\n",
      "6\n",
      "7\n",
      "8\n",
      "9\n",
      "0\n",
      "1\n",
      "2\n",
      "3\n",
      "4\n",
      "5\n",
      "6\n",
      "7\n",
      "8\n",
      "9\n"
     ]
    }
   ],
   "source": [
    "for j in range(20):\n",
    "    th.Thread(target = contar()).start()"
   ]
  },
  {
   "cell_type": "markdown",
   "id": "1970d38e-1ffe-4f5d-b904-bce7963cb41a",
   "metadata": {},
   "source": [
    "8. Cuantos hilos estan activos"
   ]
  },
  {
   "cell_type": "code",
   "execution_count": 17,
   "id": "64eb02ef-6207-4b62-8d3c-1e8855cf464d",
   "metadata": {},
   "outputs": [
    {
     "data": {
      "text/plain": [
       "5"
      ]
     },
     "execution_count": 17,
     "metadata": {},
     "output_type": "execute_result"
    }
   ],
   "source": [
    "th.active_count()"
   ]
  },
  {
   "cell_type": "markdown",
   "id": "a726c621-bbe0-4c65-badb-8cac800c6ab2",
   "metadata": {},
   "source": [
    "9. Imprima sus Dni´s y matelos"
   ]
  },
  {
   "cell_type": "code",
   "execution_count": 18,
   "id": "2046e52f-3f51-473b-8419-89deedf28324",
   "metadata": {},
   "outputs": [
    {
     "data": {
      "text/plain": [
       "[<_MainThread(MainThread, started 29592)>,\n",
       " <Thread(Thread-4, started daemon 16736)>,\n",
       " <Heartbeat(Thread-5, started daemon 33868)>,\n",
       " <HistorySavingThread(IPythonHistorySavingThread, started 29284)>,\n",
       " <ParentPollerWindows(Thread-3, started daemon 38664)>]"
      ]
     },
     "execution_count": 18,
     "metadata": {},
     "output_type": "execute_result"
    }
   ],
   "source": [
    "th.enumerate()"
   ]
  },
  {
   "cell_type": "code",
   "execution_count": null,
   "id": "dff71c92-76fe-4b22-950c-8f87e10fe4e8",
   "metadata": {},
   "outputs": [],
   "source": [
    "th."
   ]
  }
 ],
 "metadata": {
  "kernelspec": {
   "display_name": "Python 3",
   "language": "python",
   "name": "python3"
  },
  "language_info": {
   "codemirror_mode": {
    "name": "ipython",
    "version": 3
   },
   "file_extension": ".py",
   "mimetype": "text/x-python",
   "name": "python",
   "nbconvert_exporter": "python",
   "pygments_lexer": "ipython3",
   "version": "3.8.8"
  }
 },
 "nbformat": 4,
 "nbformat_minor": 5
}
