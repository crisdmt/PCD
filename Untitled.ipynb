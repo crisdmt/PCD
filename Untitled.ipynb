{
 "cells": [
  {
   "cell_type": "code",
   "execution_count": null,
   "id": "b08fb8d8-3d64-4362-aa73-c42fe6e395d0",
   "metadata": {},
   "outputs": [],
   "source": [
    "import os, firebase"
   ]
  },
  {
   "cell_type": "markdown",
   "id": "c34df166-f3ed-40b2-ae63-1776a0b7b8c4",
   "metadata": {},
   "source": [
    "## FUNCION TIEMPO VACUNACIÓN"
   ]
  },
  {
   "cell_type": "code",
   "execution_count": null,
   "id": "f83b8c3c-676c-4e06-979f-6eb4666c6bac",
   "metadata": {},
   "outputs": [],
   "source": []
  },
  {
   "cell_type": "markdown",
   "id": "c95ca563-fa5c-47b9-8542-6c012bd9a3b5",
   "metadata": {},
   "source": [
    "## FUNCION FABRICANTE"
   ]
  },
  {
   "cell_type": "code",
   "execution_count": 1,
   "id": "ad1cc19f-86c4-4075-b00c-46fa7acb4519",
   "metadata": {},
   "outputs": [
    {
     "name": "stdin",
     "output_type": "stream",
     "text": [
      "¿Tipo de vacuna? moderna\n"
     ]
    }
   ],
   "source": [
    "fabricante_ = input(\"¿Tipo de vacuna?\")"
   ]
  },
  {
   "cell_type": "code",
   "execution_count": 2,
   "id": "04f90f2e-3a4b-4346-9d10-93522a7d7b0b",
   "metadata": {},
   "outputs": [
    {
     "data": {
      "text/plain": [
       "'moderna'"
      ]
     },
     "execution_count": 2,
     "metadata": {},
     "output_type": "execute_result"
    }
   ],
   "source": [
    "fabricante_"
   ]
  },
  {
   "cell_type": "code",
   "execution_count": null,
   "id": "642e7f18-cd5e-45df-b206-53a0cc389409",
   "metadata": {},
   "outputs": [],
   "source": []
  },
  {
   "cell_type": "code",
   "execution_count": null,
   "id": "d8944680-0b2b-479c-a307-0fb838473c0f",
   "metadata": {},
   "outputs": [],
   "source": []
  },
  {
   "cell_type": "code",
   "execution_count": null,
   "id": "42b78d34-c1af-4aa0-a672-49658cd8a713",
   "metadata": {},
   "outputs": [],
   "source": []
  },
  {
   "cell_type": "code",
   "execution_count": 4,
   "id": "c1738b25-b452-436e-9149-23048daa3a12",
   "metadata": {},
   "outputs": [],
   "source": [
    "def tipo_fabricante():\n",
    "    moderna = 0\n",
    "    pfizer = 0\n",
    "    janssen = 0\n",
    "    \n",
    "    if fabricante_ == \"moderna\":\n",
    "        moderna = moderna + 1\n",
    "    if fabricante_ == \"pfizer\":\n",
    "        pfizer = pfizer + 1\n",
    "    if fabricante_ == \"janssen\":\n",
    "        janssen = janssen + 1"
   ]
  },
  {
   "cell_type": "code",
   "execution_count": 5,
   "id": "c68eab92-69c3-40bd-873f-627c5c2f2962",
   "metadata": {},
   "outputs": [],
   "source": [
    "tipo_fabricante()"
   ]
  },
  {
   "cell_type": "code",
   "execution_count": null,
   "id": "980ddeb1-6765-415f-898c-497ca5b7c481",
   "metadata": {},
   "outputs": [],
   "source": []
  }
 ],
 "metadata": {
  "kernelspec": {
   "display_name": "Python 3",
   "language": "python",
   "name": "python3"
  },
  "language_info": {
   "codemirror_mode": {
    "name": "ipython",
    "version": 3
   },
   "file_extension": ".py",
   "mimetype": "text/x-python",
   "name": "python",
   "nbconvert_exporter": "python",
   "pygments_lexer": "ipython3",
   "version": "3.8.8"
  }
 },
 "nbformat": 4,
 "nbformat_minor": 5
}
