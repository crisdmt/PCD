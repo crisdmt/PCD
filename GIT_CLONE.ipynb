{
 "cells": [
  {
   "cell_type": "code",
   "execution_count": 5,
   "id": "ab495782-10cb-403b-9062-a0a93d94d29e",
   "metadata": {},
   "outputs": [
    {
     "name": "stderr",
     "output_type": "stream",
     "text": [
      "Cloning into 'u22074263AI1'...\n"
     ]
    }
   ],
   "source": [
    "!git clone https://github.com/crisdmt/u22074263AI1.git"
   ]
  },
  {
   "cell_type": "code",
   "execution_count": null,
   "id": "ba43a17c-94ac-4dc7-9cd6-84e41eb00671",
   "metadata": {},
   "outputs": [],
   "source": []
  },
  {
   "cell_type": "code",
   "execution_count": null,
   "id": "3490d420-95a4-4b61-b50a-461d5b531a86",
   "metadata": {},
   "outputs": [],
   "source": []
  },
  {
   "cell_type": "code",
   "execution_count": null,
   "id": "b9984059-7b32-45d1-a212-332dcbb3fc79",
   "metadata": {},
   "outputs": [],
   "source": []
  }
 ],
 "metadata": {
  "kernelspec": {
   "display_name": "Python 3",
   "language": "python",
   "name": "python3"
  },
  "language_info": {
   "codemirror_mode": {
    "name": "ipython",
    "version": 3
   },
   "file_extension": ".py",
   "mimetype": "text/x-python",
   "name": "python",
   "nbconvert_exporter": "python",
   "pygments_lexer": "ipython3",
   "version": "3.8.8"
  }
 },
 "nbformat": 4,
 "nbformat_minor": 5
}
