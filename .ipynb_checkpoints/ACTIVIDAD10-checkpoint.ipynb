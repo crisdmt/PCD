{
 "cells": [
  {
   "cell_type": "code",
   "execution_count": 39,
   "id": "8d9f7528-0bdf-4310-b50e-5d49a159f6fb",
   "metadata": {},
   "outputs": [],
   "source": [
    "import multiprocessing as mp # Para trabajar en paralelo"
   ]
  },
  {
   "cell_type": "code",
   "execution_count": 40,
   "id": "b3620bb2-4784-47af-8464-91e69c130bcd",
   "metadata": {},
   "outputs": [],
   "source": [
    "import random # Para generar num. aleatorios en la A y B \n",
    "import math\n",
    "import time\n",
    "import matplotlib.pyplot as pl\n",
    "import os\n",
    "import platform as pt"
   ]
  },
  {
   "cell_type": "code",
   "execution_count": 41,
   "id": "2f45dfb4-b223-4bc7-bf23-c5d34bd77d8a",
   "metadata": {},
   "outputs": [],
   "source": [
    "mc = mp.RawArray('i',10) # d = dobule, h = short, i = integer, b = byte, l = long"
   ]
  },
  {
   "cell_type": "code",
   "execution_count": 42,
   "id": "9b2ae2f4-0408-4168-a103-e494db2bbd86",
   "metadata": {},
   "outputs": [
    {
     "data": {
      "text/plain": [
       "<multiprocessing.sharedctypes.c_long_Array_10 at 0x2e8d5e6a440>"
      ]
     },
     "execution_count": 42,
     "metadata": {},
     "output_type": "execute_result"
    }
   ],
   "source": [
    "mc"
   ]
  },
  {
   "cell_type": "code",
   "execution_count": 43,
   "id": "e52bf48e-c5ef-498c-ba1f-bb6413ef10fe",
   "metadata": {},
   "outputs": [],
   "source": [
    "def sec_mult(A, B): # f() que calcula la mult. en secuencial, como toda la vida se ha hecho \n",
    "    C = [[0] * n_col_B for i in range(n_fil_A)] # Crear y poblar la matrix  C = A*B\n",
    "    for i in range(n_fil_A): # Hago la multiplicacion de AxB = C, i para iterar sobre las filas de A\n",
    "        for j in range(n_col_B): # j para iterar sobre las columnas de B\n",
    "            for k in range(n_col_A): # k para iterar en C\n",
    "                C[i][j] += A[i][k] * B[k][j] # Aqui se hace la multiplicación y guardo en C.\n",
    "    return C"
   ]
  },
  {
   "cell_type": "code",
   "execution_count": 44,
   "id": "72acd64b-0d6b-41c4-bac4-ee81e297d32e",
   "metadata": {},
   "outputs": [],
   "source": [
    "def par_mult(A, B): # f() que prepara el reparto de trabajo para la mult. en paralelo\n",
    "    n_cores = mp.cpu_count() # Obtengo los cores de mi pc\n",
    "    size_col = math.ceil(n_col_B/n_cores) # Columnas  a procesar x c/cpre, ver Excel adjunto\n",
    "    size_fil = math.ceil(n_fil_A/n_cores) # Filas a procesar x c/cpre, ver Excel adjunto\n",
    "    MC = mp.RawArray('h', n_fil_A * n_col_B) # Array MC de memoria compartida donde se almacenaran los resultados, ver excel adjunto\n",
    "    cores = [] # Array para guardar los cores y su trabajo\n",
    "    for core in range(n_cores):# Asigno a cada core el trabajo que le toca, ver excel adjunto\n",
    "        i_MC = min(core * size_fil, n_fil_A) # Calculo i para marcar inicio del trabajo del core en relacion a las filas\n",
    "        f_MC = min((core + 1) * size_fil, n_fil_A) # Calculo f para marcar fin del trabajo del core, ver excel\n",
    "        cores.append(mp.Process(target=par_core, args=(A, B, MC, i_MC, f_MC)))# Añado al Array los cores y su trabajo\n",
    "    for core in cores:\n",
    "        core.start()# Arranco y ejecuto el trabajo para c/ uno de los cores que tenga mi equipo, ver excel\n",
    "    # for core in cores:\n",
    "    #     core.join()# Bloqueo cualquier llamada hasta que terminen su trabajo todos los cores\n",
    "    C_2D = [[0] * n_col_B for i in range(n_fil_A)] # Convierto el array unidimensional MC en una matrix 2D (C_2D) \n",
    "    for i in range(n_fil_A):# i para iterar sobre las filas de A\n",
    "        for j in range(n_col_B):# j para iterar sobre las columnas de B\n",
    "            C_2D[i][j] = MC[i*n_col_B + j] # Guardo el C_2D los datos del array MC\n",
    "    return C_2D"
   ]
  },
  {
   "cell_type": "code",
   "execution_count": 45,
   "id": "65037276-d54e-40e6-9329-251a1e7b2369",
   "metadata": {},
   "outputs": [],
   "source": [
    "def par_core(A, B, MC, i_MC, f_MC): # La tarea que hacen todos los cores\n",
    "    for i in range(i_MC, f_MC): # Size representado en colores en el excel que itera sobre las filas en A\n",
    "        for j in range(len(B[0])): # Size representado en colores en el excel que itera sobre las columnas en B\n",
    "            for k in range(len(A[0])): # n_fil_B o lo que es l mismo el n_col_A\n",
    "                MC[i*len(B[0]) + j] += A[i][k] * B[k][j]# Guarda resultado en MC[] de cada core"
   ]
  },
  {
   "cell_type": "code",
   "execution_count": 46,
   "id": "8ea0b151-90c4-487e-97a5-78c53bcd22ac",
   "metadata": {},
   "outputs": [
    {
     "name": "stdout",
     "output_type": "stream",
     "text": [
      "\n",
      "\n",
      "Matriz  A y B se han multiplicado con exito en SECUENCIAL ha tardado  0.22735834121704102  y en PARALELO  0.6047098636627197\n"
     ]
    }
   ],
   "source": [
    "if __name__ == '__main__':\n",
    "    A = [[random.randint(0,9) for i in range(100)] for j in range(100)] # Genero A[21535220][6]con num. aleatorios del 0 al 215, ver excel\n",
    "    B = [[random.randint(0,9) for i in range(100)] for j in range(100)] # Genero B[6][21535220]con num. aleatorios del 0 al 215, ver excel\n",
    "    n_fil_A = len(A) # Obtengo num de filas de A \n",
    "    n_col_A = len(A[0]) # Obtengo num de colunmas de A \n",
    "    n_fil_B = len(B) # Obtengo num de filas de B\n",
    "    n_col_B = len(B[0]) # # Obtengo num de filas de B\n",
    "    if n_col_A != n_fil_B: raise Exception('Dimensiones no validas') # Compruebo que se puedan multiplicar A y B\n",
    "    inicioS = time.time()\n",
    "    sec_mult(A, B) # Ejecuto multiplicacion secuencial\n",
    "    finS = time.time()\n",
    "    inicioP = time.time()\n",
    "    par_mult(A, B) # Ejecuto multiplicacion paralela\n",
    "    finP = time.time()\n",
    "    print('\\n\\nMatriz  A y B se han multiplicado con exito en SECUENCIAL ha tardado ', finS-inicioS, ' y en PARALELO ', finP-inicioP)"
   ]
  },
  {
   "cell_type": "code",
   "execution_count": 47,
   "id": "5a4659fb-b7e5-407c-9fe0-918295ceeb93",
   "metadata": {},
   "outputs": [
    {
     "name": "stdin",
     "output_type": "stream",
     "text": [
      "Cuantas filas quieres? 20\n",
      "Cuantas columnas quieres? 20\n",
      "Cuantas filas quieres? 20\n",
      "Cuantas columnas quieres? 20\n"
     ]
    }
   ],
   "source": [
    "filasA = int(input(\"Cuantas filas quieres?\"))\n",
    "columnasA = int(input(\"Cuantas columnas quieres?\"))\n",
    "filasB = int(input(\"Cuantas filas quieres?\"))\n",
    "columnasB = int(input(\"Cuantas columnas quieres?\"))"
   ]
  },
  {
   "cell_type": "code",
   "execution_count": null,
   "id": "c107ca65-c2f2-468f-b2b8-a85cd8209572",
   "metadata": {},
   "outputs": [],
   "source": [
    "bar=['secuencial', 'paralelo']\n",
    "datos=[finS-inicioS, finP-inicioP]\n",
    "\n",
    "pl.title(str(\"Realizado por un ordenador \")+ str(pt.architecture())+\" con \"+ str(os.cpu_count())+ \" cores.\")\n",
    "\n",
    "grafica= pl.bar(bar,datos)\n",
    "grafica"
   ]
  },
  {
   "cell_type": "code",
   "execution_count": null,
   "id": "5d14d715-9752-47b4-a80b-6e913173cb7a",
   "metadata": {},
   "outputs": [],
   "source": [
    "pl.savefig('21938531')"
   ]
  },
  {
   "cell_type": "code",
   "execution_count": null,
   "id": "fb51f641-9793-47e2-a442-e8b771fdf19b",
   "metadata": {},
   "outputs": [],
   "source": [
    "if __name__ == '__main__':\n",
    "     \n",
    "        dominio = 301\n",
    "        intervalo= 2\n",
    "        datos_secuenciales = [0]*int(dominio/intervalo)\n",
    "        datos_paralelos=[0]*int(dominio/intervalo)\n",
    "        it = 0\n",
    "        "
   ]
  },
  {
   "cell_type": "code",
   "execution_count": 50,
   "id": "c3110a0a-997b-45b3-90e8-e27672b48d8c",
   "metadata": {},
   "outputs": [
    {
     "data": {
      "image/png": "[encoded data removed]",
      "text/plain": [
       "<Figure size 432x288 with 1 Axes>"
      ]
     },
     "metadata": {
      "needs_background": "light"
     },
     "output_type": "display_data"
    }
   ],
   "source": [
    "titulo = \"Comparativa realizada en un \" + str(pt.architecture()) + \" con \" + str(os.cpu_count()) + \" cores\"\n",
    "pl.title(titulo)\n",
    "pl.savefig('22056511')"
   ]
  },
  {
   "cell_type": "code",
   "execution_count": null,
   "id": "594647cc-57a2-49a6-a6c6-d55d3d2c458a",
   "metadata": {},
   "outputs": [],
   "source": [
    "math.ceil(20/os.cpu_count()) ##esto me sirve por si me quedo 2,5 pues para llegar al siguiente numero superior --> 3"
   ]
  },
  {
   "cell_type": "code",
   "execution_count": null,
   "id": "393764c3-4087-4a77-8037-fb2ea9ba00af",
   "metadata": {},
   "outputs": [],
   "source": []
  }
 ],
 "metadata": {
  "kernelspec": {
   "display_name": "Python 3",
   "language": "python",
   "name": "python3"
  },
  "language_info": {
   "codemirror_mode": {
    "name": "ipython",
    "version": 3
   },
   "file_extension": ".py",
   "mimetype": "text/x-python",
   "name": "python",
   "nbconvert_exporter": "python",
   "pygments_lexer": "ipython3",
   "version": "3.8.8"
  }
 },
 "nbformat": 4,
 "nbformat_minor": 5
}
