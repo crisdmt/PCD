{
 "cells": [
  {
   "cell_type": "code",
   "execution_count": 15,
   "id": "c22c0a14-f93c-4aee-911b-c00704b9d610",
   "metadata": {},
   "outputs": [],
   "source": [
    "import multiprocessing as mp, numpy as np, os, IPython as Ip"
   ]
  },
  {
   "cell_type": "code",
   "execution_count": 16,
   "id": "a5ff8c6a-0522-4ad3-950c-858061fff416",
   "metadata": {},
   "outputs": [
    {
     "name": "stdout",
     "output_type": "stream",
     "text": [
      "[[1 1 1]\n",
      " [2 2 2]\n",
      " [3 3 3]\n",
      " [4 4 4]]\n",
      "[[1 1]\n",
      " [2 2]\n",
      " [3 3]]\n"
     ]
    }
   ],
   "source": [
    "a=np.array([(1,1,1),(2,2,2),(3,3,3),(4,4,4)])\n",
    "b=np.array([(1,1),(2,2),(3,3)])\n",
    "print(a)\n",
    "print(b)"
   ]
  },
  {
   "cell_type": "code",
   "execution_count": 17,
   "id": "d9cbdf89-a73a-4f8d-97a3-432a176b8d5d",
   "metadata": {},
   "outputs": [],
   "source": [
    "a=[(1,1,1),(2,2,2),(3,3,3),(4,4,4)]"
   ]
  },
  {
   "cell_type": "code",
   "execution_count": 27,
   "id": "64a1a2db-e694-4ff3-b4a6-96790ccf5373",
   "metadata": {},
   "outputs": [
    {
     "data": {
      "text/plain": [
       "[(1, 1, 1), (2, 2, 2), (3, 3, 3), (4, 4, 4)]"
      ]
     },
     "execution_count": 27,
     "metadata": {},
     "output_type": "execute_result"
    }
   ],
   "source": [
    "a"
   ]
  },
  {
   "cell_type": "code",
   "execution_count": null,
   "id": "232e6ebb-a8a1-427f-832d-df821bb2a8e1",
   "metadata": {},
   "outputs": [],
   "source": [
    "#sacar numero filas y columnas"
   ]
  },
  {
   "cell_type": "code",
   "execution_count": 28,
   "id": "db2e3435-7dcb-4359-88c9-708657058b92",
   "metadata": {},
   "outputs": [
    {
     "data": {
      "text/plain": [
       "4"
      ]
     },
     "execution_count": 28,
     "metadata": {},
     "output_type": "execute_result"
    }
   ],
   "source": [
    "len(a)"
   ]
  },
  {
   "cell_type": "code",
   "execution_count": 29,
   "id": "78f950ef-7c1f-4d50-ab61-50c334872759",
   "metadata": {},
   "outputs": [
    {
     "data": {
      "text/plain": [
       "3"
      ]
     },
     "execution_count": 29,
     "metadata": {},
     "output_type": "execute_result"
    }
   ],
   "source": [
    "len(a[0])"
   ]
  },
  {
   "cell_type": "code",
   "execution_count": 19,
   "id": "fe21676b-4a69-4b42-bcda-aa64de52f904",
   "metadata": {},
   "outputs": [],
   "source": [
    "b=[(1,1),(2,2),(3,3)]"
   ]
  },
  {
   "cell_type": "code",
   "execution_count": 20,
   "id": "7345bfb3-c223-42c1-9a1e-0a0407c6ec47",
   "metadata": {},
   "outputs": [
    {
     "data": {
      "text/plain": [
       "[(1, 1), (2, 2), (3, 3)]"
      ]
     },
     "execution_count": 20,
     "metadata": {},
     "output_type": "execute_result"
    }
   ],
   "source": [
    "b"
   ]
  },
  {
   "cell_type": "code",
   "execution_count": 21,
   "id": "5a03a1fc-4155-4cce-94ef-53ea23e46257",
   "metadata": {},
   "outputs": [],
   "source": [
    "c=[(0,0,0),(0,0,0),(0,0,0),(0,0,0)]"
   ]
  },
  {
   "cell_type": "code",
   "execution_count": 22,
   "id": "0d79dac7-19a3-4705-882b-e4d01a6640c2",
   "metadata": {},
   "outputs": [
    {
     "data": {
      "text/plain": [
       "[(0, 0, 0), (0, 0, 0), (0, 0, 0), (0, 0, 0)]"
      ]
     },
     "execution_count": 22,
     "metadata": {},
     "output_type": "execute_result"
    }
   ],
   "source": [
    "c"
   ]
  },
  {
   "cell_type": "code",
   "execution_count": 23,
   "id": "f6da201d-576d-441d-949d-8e565562144d",
   "metadata": {},
   "outputs": [
    {
     "name": "stdout",
     "output_type": "stream",
     "text": [
      "[(0, 0, 0), (0, 0, 0), (0, 0, 0), (0, 0, 0)]\n"
     ]
    }
   ],
   "source": [
    "print(c)"
   ]
  },
  {
   "cell_type": "code",
   "execution_count": 24,
   "id": "e0e14f69-b78e-491d-b2c2-da9ab40cd58d",
   "metadata": {},
   "outputs": [
    {
     "data": {
      "text/plain": [
       "(0, 0)"
      ]
     },
     "execution_count": 24,
     "metadata": {},
     "output_type": "execute_result"
    }
   ],
   "source": [
    "0,0"
   ]
  },
  {
   "cell_type": "code",
   "execution_count": null,
   "id": "ba68c4c7-d95c-43c2-b627-f00e0964367e",
   "metadata": {},
   "outputs": [],
   "source": [
    "meter imagenes"
   ]
  },
  {
   "cell_type": "markdown",
   "id": "9d1bbb7b-f96d-47ff-8139-b5fc9c6d939f",
   "metadata": {},
   "source": [
    "# Secuencial"
   ]
  },
  {
   "cell_type": "code",
   "execution_count": null,
   "id": "288be28b-25ad-4db4-b227-2bd2c4a49396",
   "metadata": {},
   "outputs": [],
   "source": [
    "def seq(a, b):\n",
    "for i in range(3):\n",
    "    for j in range(2):\n",
    "        for k in range():\n",
    "            c[i][k]=a[i][j]\n",
    "        "
   ]
  },
  {
   "cell_type": "markdown",
   "id": "949a87f2-6e03-463a-af8a-0b56a6442891",
   "metadata": {},
   "source": [
    "# Paralelo usando todos los cores"
   ]
  },
  {
   "cell_type": "code",
   "execution_count": 25,
   "id": "6c6306a4-5c7a-4668-ad5c-64408b7bc1ec",
   "metadata": {},
   "outputs": [],
   "source": [
    "def par(a,b):\n",
    "    n_cores = mp.cpu_count()\n",
    "    size_fila = n_col_b/n_cores\n",
    "    size_col = n_fil_a/n_cores\n",
    "    mc=mp.RawArray()"
   ]
  },
  {
   "cell_type": "code",
   "execution_count": 30,
   "id": "49bbc54e-45ec-4f2a-8bd4-7d26e25fd3b7",
   "metadata": {},
   "outputs": [],
   "source": [
    "def par_core(a,b,mc,i_mc,f_mc):\n",
    "    for i in range(i_mc, f_mc):\n",
    "        for j in range(len(b[0])):\n",
    "            mc[i*len(b[0])+j]+=a[i][k]*b[k][j]"
   ]
  },
  {
   "cell_type": "code",
   "execution_count": null,
   "id": "b9264ec2-4cdc-46b5-b8e3-b9dfe9751b70",
   "metadata": {},
   "outputs": [],
   "source": []
  }
 ],
 "metadata": {
  "kernelspec": {
   "display_name": "Python 3",
   "language": "python",
   "name": "python3"
  },
  "language_info": {
   "codemirror_mode": {
    "name": "ipython",
    "version": 3
   },
   "file_extension": ".py",
   "mimetype": "text/x-python",
   "name": "python",
   "nbconvert_exporter": "python",
   "pygments_lexer": "ipython3",
   "version": "3.8.8"
  }
 },
 "nbformat": 4,
 "nbformat_minor": 5
}
