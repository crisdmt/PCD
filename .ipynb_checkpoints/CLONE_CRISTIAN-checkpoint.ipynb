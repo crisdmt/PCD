{
 "cells": [
  {
   "cell_type": "code",
   "execution_count": 1,
   "id": "d72d90c4-ff50-435d-9978-065fa18c21ec",
   "metadata": {},
   "outputs": [
    {
     "name": "stderr",
     "output_type": "stream",
     "text": [
      "Cloning into 'image-downloader-concurrent-vs-sequential'...\n",
      "remote: Repository not found.\n",
      "fatal: repository 'https://github.com/sukuzhanay/image-downloader-concurrent-vs-sequential.git/' not found\n"
     ]
    }
   ],
   "source": [
    "!git clone https://github.com/sukuzhanay/image-downloader-concurrent-vs-sequential.git"
   ]
  },
  {
   "cell_type": "code",
   "execution_count": 2,
   "id": "2981d5a3-c843-455c-95a0-440d52d02b65",
   "metadata": {},
   "outputs": [
    {
     "name": "stdout",
     "output_type": "stream",
     "text": [
      " El volumen de la unidad C es Windows\n",
      " El número de serie del volumen es: DE48-154F\n",
      "\n",
      " Directorio de C:\\Users\\crisd\\REPOSITORIOS\\PCD\\ACTIVIDADES CLASE\n",
      "\n",
      "25/11/2021  00:02    <DIR>          .\n",
      "25/11/2021  00:02    <DIR>          ..\n",
      "24/11/2021  23:57    <DIR>          .ipynb_checkpoints\n",
      "18/11/2021  16:04             7.433 22056511.png\n",
      "24/11/2021  23:55            48.868 ACTIVIDAD1.ipynb\n",
      "24/11/2021  23:54            18.835 ACTIVIDAD10.ipynb\n",
      "11/11/2021  15:59            10.066 ACTIVIDAD2.ipynb\n",
      "11/11/2021  16:03             4.261 ACTIVIDAD3.ipynb\n",
      "24/11/2021  23:54            51.184 ACTIVIDAD4.ipynb\n",
      "24/11/2021  23:57             1.487 ACTIVIDAD5.ipynb\n",
      "24/11/2021  23:46            34.054 Captura123.JPG\n",
      "24/11/2021  23:55            34.509 Fib.JPG\n",
      "05/11/2021  19:04    <DIR>          sockets\n",
      "01/11/2021  18:07            19.556 statuscode.jpg\n",
      "24/11/2021  23:54             1.006 Untitled.ipynb\n",
      "01/11/2021  18:07             9.728 Untitled5.ipynb\n",
      "01/11/2021  18:07               604 Untitled6.ipynb\n",
      "01/11/2021  18:07             2.464 Untitled7.ipynb\n",
      "24/11/2021  23:54             6.169 Untitled8.ipynb\n",
      "04/11/2021  16:39               604 Untitled9.ipynb\n",
      "              16 archivos        250.828 bytes\n",
      "               4 dirs  33.009.348.608 bytes libres\n"
     ]
    }
   ],
   "source": [
    "ls"
   ]
  },
  {
   "cell_type": "code",
   "execution_count": null,
   "id": "de655d7d-0caf-41ae-a0b3-7c490107ff2e",
   "metadata": {},
   "outputs": [],
   "source": []
  }
 ],
 "metadata": {
  "kernelspec": {
   "display_name": "Python 3",
   "language": "python",
   "name": "python3"
  },
  "language_info": {
   "codemirror_mode": {
    "name": "ipython",
    "version": 3
   },
   "file_extension": ".py",
   "mimetype": "text/x-python",
   "name": "python",
   "nbconvert_exporter": "python",
   "pygments_lexer": "ipython3",
   "version": "3.8.8"
  }
 },
 "nbformat": 4,
 "nbformat_minor": 5
}
