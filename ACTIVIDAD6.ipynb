{
 "cells": [
  {
   "cell_type": "markdown",
   "id": "907ca99e-d813-4e45-ba24-44db3e84031d",
   "metadata": {},
   "source": [
    "# Practica 5"
   ]
  },
  {
   "cell_type": "code",
   "execution_count": 10,
   "id": "7d0e757a-d9d8-49ed-a940-b6949c4f5a37",
   "metadata": {},
   "outputs": [],
   "source": [
    "import os, threading as th, requests, io, sys, socket, time, urllib.request as rq, concurrent as ct, IPython as IP"
   ]
  },
  {
   "cell_type": "code",
   "execution_count": 14,
   "id": "73ab5e96-5f09-4c08-a88c-c416a67a1577",
   "metadata": {},
   "outputs": [
    {
     "name": "stdin",
     "output_type": "stream",
     "text": [
      "number 4\n"
     ]
    }
   ],
   "source": [
    "img=int(input(\"number\"))"
   ]
  },
  {
   "cell_type": "code",
   "execution_count": 18,
   "id": "b93fca81-53f3-43d2-a9eb-a6b35c7d9eb4",
   "metadata": {},
   "outputs": [],
   "source": [
    "img_url = 'https://storage.googleapis.com/christian_vladimir_sucuzhanay_bucket/pictures_videos/pic{:03d}.jpeg'.format(img)"
   ]
  },
  {
   "cell_type": "code",
   "execution_count": 15,
   "id": "237731ac-958d-48f2-bb01-4db7e3530d1b",
   "metadata": {},
   "outputs": [
    {
     "name": "stdout",
     "output_type": "stream",
     "text": [
      "https://storage.googleapis.com/christian_vladimir_sucuzhanay_bucket/pictures_videos/pic000.jpeg0.jpeg\n",
      "https://storage.googleapis.com/christian_vladimir_sucuzhanay_bucket/pictures_videos/pic000.jpeg1.jpeg\n",
      "https://storage.googleapis.com/christian_vladimir_sucuzhanay_bucket/pictures_videos/pic000.jpeg2.jpeg\n",
      "https://storage.googleapis.com/christian_vladimir_sucuzhanay_bucket/pictures_videos/pic000.jpeg3.jpeg\n",
      "https://storage.googleapis.com/christian_vladimir_sucuzhanay_bucket/pictures_videos/pic000.jpeg4.jpeg\n",
      "https://storage.googleapis.com/christian_vladimir_sucuzhanay_bucket/pictures_videos/pic000.jpeg5.jpeg\n",
      "https://storage.googleapis.com/christian_vladimir_sucuzhanay_bucket/pictures_videos/pic000.jpeg6.jpeg\n",
      "https://storage.googleapis.com/christian_vladimir_sucuzhanay_bucket/pictures_videos/pic000.jpeg7.jpeg\n",
      "https://storage.googleapis.com/christian_vladimir_sucuzhanay_bucket/pictures_videos/pic000.jpeg8.jpeg\n",
      "https://storage.googleapis.com/christian_vladimir_sucuzhanay_bucket/pictures_videos/pic000.jpeg9.jpeg\n"
     ]
    }
   ],
   "source": [
    "urls = [\"\"]*10\n",
    "\n",
    "for i in range(len(urls)):\n",
    "    urls[i] = \"https://storage.googleapis.com/christian_vladimir_sucuzhanay_bucket/pictures_videos/pic000.jpeg\" + str(i) + \".jpeg\"\n",
    "    print(urls[i])"
   ]
  },
  {
   "cell_type": "code",
   "execution_count": 16,
   "id": "b611bb2c-918e-4e85-a25e-c43321354923",
   "metadata": {},
   "outputs": [
    {
     "ename": "SyntaxError",
     "evalue": "invalid syntax (<ipython-input-16-bee786cd4716>, line 1)",
     "output_type": "error",
     "traceback": [
      "\u001b[1;36m  File \u001b[1;32m\"<ipython-input-16-bee786cd4716>\"\u001b[1;36m, line \u001b[1;32m1\u001b[0m\n\u001b[1;33m    wget https://storage.googleapis.com/christian_vladimir_sucuzhanay_bucket/pictures_videos/pic001.jpeg\u001b[0m\n\u001b[1;37m         ^\u001b[0m\n\u001b[1;31mSyntaxError\u001b[0m\u001b[1;31m:\u001b[0m invalid syntax\n"
     ]
    }
   ],
   "source": [
    "wget https://storage.googleapis.com/christian_vladimir_sucuzhanay_bucket/pictures_videos/pic001.jpeg"
   ]
  },
  {
   "cell_type": "code",
   "execution_count": 6,
   "id": "49a581bb-585e-45e9-b4a9-ad8236cfb220",
   "metadata": {},
   "outputs": [],
   "source": [
    "def dwl_a_mano(lt):\n",
    "    wt=0\n",
    "    for i in lt:\n",
    "        wt +=dwl(i)\n",
    "    return wt"
   ]
  },
  {
   "cell_type": "code",
   "execution_count": 7,
   "id": "620787be-6c30-4600-a400-7a3f043c322e",
   "metadata": {},
   "outputs": [],
   "source": [
    "def dwl_a_toda_maquina(lt):\n",
    "    wt=0\n",
    "    with ct.futures.ThreadPoolExecutor() as wk:\n",
    "        futures=[wk.submit(dwl,i) for i in lt]\n",
    "        for f in ct.as_completed(futures):\n",
    "            wt+=f.result()\n",
    "    return wt"
   ]
  },
  {
   "cell_type": "code",
   "execution_count": 8,
   "id": "893ab4a9-2795-4f7e-b612-c9202f61fa7a",
   "metadata": {},
   "outputs": [],
   "source": [
    "def dwl(img):\n",
    "    img_url = 'https://storage.googleapis.com/christian_vladimir_sucuzhanay_bucket/pictures_videos/pic000.jpeg'.format(img)\n",
    "    \n",
    "    with rq.urlopen(img_url, timeout=80) as conn:\n",
    "        return len(conn.read())\n",
    "    pass"
   ]
  },
  {
   "cell_type": "code",
   "execution_count": 9,
   "id": "76ef593f-c556-4024-a1c9-f41cf9e2f466",
   "metadata": {},
   "outputs": [
    {
     "name": "stdout",
     "output_type": "stream",
     "text": [
      "17.943941399999996\n"
     ]
    },
    {
     "ename": "AttributeError",
     "evalue": "module 'concurrent' has no attribute 'as_completed'",
     "output_type": "error",
     "traceback": [
      "\u001b[1;31m---------------------------------------------------------------------------\u001b[0m",
      "\u001b[1;31mAttributeError\u001b[0m                            Traceback (most recent call last)",
      "\u001b[1;32m<ipython-input-9-b28769e01c1e>\u001b[0m in \u001b[0;36m<module>\u001b[1;34m\u001b[0m\n\u001b[0;32m      8\u001b[0m \u001b[1;33m\u001b[0m\u001b[0m\n\u001b[0;32m      9\u001b[0m     \u001b[0mstart\u001b[0m \u001b[1;33m=\u001b[0m \u001b[0mtime\u001b[0m\u001b[1;33m.\u001b[0m\u001b[0mperf_counter\u001b[0m\u001b[1;33m(\u001b[0m\u001b[1;33m)\u001b[0m\u001b[1;33m\u001b[0m\u001b[1;33m\u001b[0m\u001b[0m\n\u001b[1;32m---> 10\u001b[1;33m     \u001b[0mdwl_a_toda_maquina_r\u001b[0m \u001b[1;33m=\u001b[0m \u001b[0mdwl_a_toda_maquina\u001b[0m\u001b[1;33m(\u001b[0m\u001b[0ml\u001b[0m\u001b[1;33m)\u001b[0m\u001b[1;33m\u001b[0m\u001b[1;33m\u001b[0m\u001b[0m\n\u001b[0m\u001b[0;32m     11\u001b[0m     \u001b[0ma_toda_maquina_t\u001b[0m \u001b[1;33m=\u001b[0m \u001b[1;36m0\u001b[0m\u001b[1;33m\u001b[0m\u001b[1;33m\u001b[0m\u001b[0m\n\u001b[0;32m     12\u001b[0m     \u001b[0ma_toda_maquina_t\u001b[0m \u001b[1;33m=\u001b[0m \u001b[0mtime\u001b[0m\u001b[1;33m.\u001b[0m\u001b[0mperf_counter\u001b[0m\u001b[1;33m(\u001b[0m\u001b[1;33m)\u001b[0m \u001b[1;33m-\u001b[0m \u001b[0mstart\u001b[0m\u001b[1;33m\u001b[0m\u001b[1;33m\u001b[0m\u001b[0m\n",
      "\u001b[1;32m<ipython-input-7-f56599c6284a>\u001b[0m in \u001b[0;36mdwl_a_toda_maquina\u001b[1;34m(lt)\u001b[0m\n\u001b[0;32m      3\u001b[0m     \u001b[1;32mwith\u001b[0m \u001b[0mct\u001b[0m\u001b[1;33m.\u001b[0m\u001b[0mfutures\u001b[0m\u001b[1;33m.\u001b[0m\u001b[0mThreadPoolExecutor\u001b[0m\u001b[1;33m(\u001b[0m\u001b[1;33m)\u001b[0m \u001b[1;32mas\u001b[0m \u001b[0mwk\u001b[0m\u001b[1;33m:\u001b[0m\u001b[1;33m\u001b[0m\u001b[1;33m\u001b[0m\u001b[0m\n\u001b[0;32m      4\u001b[0m         \u001b[0mfutures\u001b[0m\u001b[1;33m=\u001b[0m\u001b[1;33m[\u001b[0m\u001b[0mwk\u001b[0m\u001b[1;33m.\u001b[0m\u001b[0msubmit\u001b[0m\u001b[1;33m(\u001b[0m\u001b[0mdwl\u001b[0m\u001b[1;33m,\u001b[0m\u001b[0mi\u001b[0m\u001b[1;33m)\u001b[0m \u001b[1;32mfor\u001b[0m \u001b[0mi\u001b[0m \u001b[1;32min\u001b[0m \u001b[0mlt\u001b[0m\u001b[1;33m]\u001b[0m\u001b[1;33m\u001b[0m\u001b[1;33m\u001b[0m\u001b[0m\n\u001b[1;32m----> 5\u001b[1;33m         \u001b[1;32mfor\u001b[0m \u001b[0mf\u001b[0m \u001b[1;32min\u001b[0m \u001b[0mct\u001b[0m\u001b[1;33m.\u001b[0m\u001b[0mas_completed\u001b[0m\u001b[1;33m(\u001b[0m\u001b[0mfutures\u001b[0m\u001b[1;33m)\u001b[0m\u001b[1;33m:\u001b[0m\u001b[1;33m\u001b[0m\u001b[1;33m\u001b[0m\u001b[0m\n\u001b[0m\u001b[0;32m      6\u001b[0m             \u001b[0mwt\u001b[0m\u001b[1;33m+=\u001b[0m\u001b[0mf\u001b[0m\u001b[1;33m.\u001b[0m\u001b[0mresult\u001b[0m\u001b[1;33m(\u001b[0m\u001b[1;33m)\u001b[0m\u001b[1;33m\u001b[0m\u001b[1;33m\u001b[0m\u001b[0m\n\u001b[0;32m      7\u001b[0m     \u001b[1;32mreturn\u001b[0m \u001b[0mwt\u001b[0m\u001b[1;33m\u001b[0m\u001b[1;33m\u001b[0m\u001b[0m\n",
      "\u001b[1;31mAttributeError\u001b[0m: module 'concurrent' has no attribute 'as_completed'"
     ]
    }
   ],
   "source": [
    "if __name__== '__main__':\n",
    "    l= list(range(10))\n",
    "    start= time.perf_counter()\n",
    "    a_mano_r =dwl_a_mano(l)\n",
    "    a_mano_t = 0\n",
    "    a_mano_t += time.perf_counter() - start\n",
    "    print(a_mano_t)\n",
    "    \n",
    "    start = time.perf_counter()\n",
    "    dwl_a_toda_maquina_r = dwl_a_toda_maquina(l)\n",
    "    a_toda_maquina_t = 0\n",
    "    a_toda_maquina_t = time.perf_counter() - start\n",
    "    print(a_toda_maquina_t)\n",
    "    print('Diferencia es de : {:.2f}'.format(a_mano_t/a_toda_maquina_t))"
   ]
  },
  {
   "cell_type": "code",
   "execution_count": 17,
   "id": "aba93f98-c326-4ec6-9abf-2b16a99288cf",
   "metadata": {},
   "outputs": [
    {
     "data": {
      "text/plain": [
       "'C:\\\\Users\\\\crisd\\\\first prg'"
      ]
     },
     "execution_count": 17,
     "metadata": {},
     "output_type": "execute_result"
    }
   ],
   "source": [
    "pwd"
   ]
  },
  {
   "cell_type": "code",
   "execution_count": null,
   "id": "25f6590a-0700-467b-bc2e-b3e4c3907700",
   "metadata": {},
   "outputs": [],
   "source": []
  }
 ],
 "metadata": {
  "kernelspec": {
   "display_name": "Python 3",
   "language": "python",
   "name": "python3"
  },
  "language_info": {
   "codemirror_mode": {
    "name": "ipython",
    "version": 3
   },
   "file_extension": ".py",
   "mimetype": "text/x-python",
   "name": "python",
   "nbconvert_exporter": "python",
   "pygments_lexer": "ipython3",
   "version": "3.8.8"
  }
 },
 "nbformat": 4,
 "nbformat_minor": 5
}
