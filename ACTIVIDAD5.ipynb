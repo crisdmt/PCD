{
 "cells": [
  {
   "cell_type": "markdown",
   "id": "0f73c726-ef11-43f1-aaaf-a283adb75082",
   "metadata": {},
   "source": [
    "## ACTIVIDAD 5"
   ]
  },
  {
   "cell_type": "code",
   "execution_count": 5,
   "id": "fe46a2af-e5f9-4832-bcc2-3eb770e9811b",
   "metadata": {},
   "outputs": [],
   "source": [
    "import socket as sc"
   ]
  },
  {
   "cell_type": "code",
   "execution_count": 6,
   "id": "0a983dba-0557-4267-b36c-22e0322d4d89",
   "metadata": {},
   "outputs": [],
   "source": [
    "socket_=sc.socket()"
   ]
  },
  {
   "cell_type": "code",
   "execution_count": 11,
   "id": "1f1454e6-2125-4fee-b5cd-d4e9f03cea1f",
   "metadata": {},
   "outputs": [
    {
     "data": {
      "text/plain": [
       "1344"
      ]
     },
     "execution_count": 11,
     "metadata": {},
     "output_type": "execute_result"
    }
   ],
   "source": [
    "socket_.fileno()"
   ]
  },
  {
   "cell_type": "code",
   "execution_count": null,
   "id": "b3e84386-061f-4c97-bb9d-785aa3af83ac",
   "metadata": {},
   "outputs": [],
   "source": []
  }
 ],
 "metadata": {
  "kernelspec": {
   "display_name": "Python 3",
   "language": "python",
   "name": "python3"
  },
  "language_info": {
   "codemirror_mode": {
    "name": "ipython",
    "version": 3
   },
   "file_extension": ".py",
   "mimetype": "text/x-python",
   "name": "python",
   "nbconvert_exporter": "python",
   "pygments_lexer": "ipython3",
   "version": "3.8.8"
  }
 },
 "nbformat": 4,
 "nbformat_minor": 5
}
