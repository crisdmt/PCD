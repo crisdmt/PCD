{
 "cells": [
  {
   "cell_type": "markdown",
   "id": "86a7762c-37bc-4006-8a7a-77ba0c3a9b7f",
   "metadata": {},
   "source": [
    "### Obtener datos"
   ]
  },
  {
   "cell_type": "code",
   "execution_count": 8,
   "id": "7bde83bf-1cea-4343-942c-7f99cde831ba",
   "metadata": {},
   "outputs": [],
   "source": [
    "import pandas as pd\n",
    "import requests as rq"
   ]
  },
  {
   "cell_type": "markdown",
   "id": "48228eec-6c85-4499-a7f5-91b072d007ae",
   "metadata": {},
   "source": [
    "#### Datos estáticos"
   ]
  },
  {
   "cell_type": "code",
   "execution_count": null,
   "id": "fa90449b-a833-465e-9852-32c04a55fd0e",
   "metadata": {},
   "outputs": [],
   "source": [
    "ls Restaurantes_es_1.xlsx"
   ]
  },
  {
   "cell_type": "code",
   "execution_count": 13,
   "id": "4d71e758-281f-4c50-bec7-13e3bb6be089",
   "metadata": {},
   "outputs": [
    {
     "data": {
      "text/html": [
       "<div>\n",
       "<style scoped>\n",
       "    .dataframe tbody tr th:only-of-type {\n",
       "        vertical-align: middle;\n",
       "    }\n",
       "\n",
       "    .dataframe tbody tr th {\n",
       "        vertical-align: top;\n",
       "    }\n",
       "\n",
       "    .dataframe thead th {\n",
       "        text-align: right;\n",
       "    }\n",
       "</style>\n",
       "<table border=\"1\" class=\"dataframe\">\n",
       "  <thead>\n",
       "    <tr style=\"text-align: right;\">\n",
       "      <th></th>\n",
       "      <th>NOMBRE EMPRESA</th>\n",
       "      <th>DIRECCION</th>\n",
       "      <th>CP</th>\n",
       "      <th>LOCALIDAD2</th>\n",
       "      <th>MUNICIPIO</th>\n",
       "      <th>PROVINCIA</th>\n",
       "      <th>COMUNIDADES</th>\n",
       "      <th>TELÉFONO</th>\n",
       "      <th>TELÉFONO2</th>\n",
       "      <th>EMAIL</th>\n",
       "      <th>...</th>\n",
       "      <th>REFERENCIAS</th>\n",
       "      <th>ACTIV. PRINCIPAL</th>\n",
       "      <th>TIPO SOC.</th>\n",
       "      <th>FACEBOOK</th>\n",
       "      <th>INSTAGRAM</th>\n",
       "      <th>TWITTER</th>\n",
       "      <th>PINTEREST</th>\n",
       "      <th>YOUTUBE</th>\n",
       "      <th>ID BREKIADATA</th>\n",
       "      <th>URL GOOGLE MAPS</th>\n",
       "    </tr>\n",
       "  </thead>\n",
       "  <tbody>\n",
       "    <tr>\n",
       "      <th>0</th>\n",
       "      <td>RESTAURANTE BODEGÓN CASA TOMÁS</td>\n",
       "      <td>Callejon de la Iglesia, 2</td>\n",
       "      <td>38292.0</td>\n",
       "      <td>TEGUESTE CENTRO</td>\n",
       "      <td>TEGUESTE</td>\n",
       "      <td>SANTA CRUZ DE TENERIFE</td>\n",
       "      <td>CANARIAS</td>\n",
       "      <td>922636971</td>\n",
       "      <td>922638007.0</td>\n",
       "      <td>NaN</td>\n",
       "      <td>...</td>\n",
       "      <td>BRK0072</td>\n",
       "      <td>RESTAURANTES</td>\n",
       "      <td>NaN</td>\n",
       "      <td>https://www.facebook.com/casatomasrestaurante</td>\n",
       "      <td>NaN</td>\n",
       "      <td>NaN</td>\n",
       "      <td>NaN</td>\n",
       "      <td>NaN</td>\n",
       "      <td>1165187-1-2021-09-20</td>\n",
       "      <td>http://maps.google.es/maps?f=q&amp;source=s_q&amp;hl=e...</td>\n",
       "    </tr>\n",
       "    <tr>\n",
       "      <th>1</th>\n",
       "      <td>RESTAURANTE MESÓN DON PELAYO</td>\n",
       "      <td>Camino de la Hormiga s/n (Acceso Por la Calle ...</td>\n",
       "      <td>47012.0</td>\n",
       "      <td>NaN</td>\n",
       "      <td>VALLADOLID</td>\n",
       "      <td>VALLADOLID</td>\n",
       "      <td>CASTILLA Y LEÓN</td>\n",
       "      <td>983294259</td>\n",
       "      <td>983293435.0</td>\n",
       "      <td>NaN</td>\n",
       "      <td>...</td>\n",
       "      <td>BRK0072</td>\n",
       "      <td>RESTAURANTES</td>\n",
       "      <td>NaN</td>\n",
       "      <td>NaN</td>\n",
       "      <td>https://www.instagram.com/mesondonpelayo</td>\n",
       "      <td>https://twitter.com/MDonPelayo</td>\n",
       "      <td>NaN</td>\n",
       "      <td>NaN</td>\n",
       "      <td>1165193-1-2021-09-20</td>\n",
       "      <td>http://maps.google.es/maps?f=q&amp;source=s_q&amp;hl=e...</td>\n",
       "    </tr>\n",
       "    <tr>\n",
       "      <th>2</th>\n",
       "      <td>RESTAURANTE - HOTEL EL CONVENTO</td>\n",
       "      <td>Carretera de la Estación</td>\n",
       "      <td>49530.0</td>\n",
       "      <td>NaN</td>\n",
       "      <td>CORESES</td>\n",
       "      <td>ZAMORA</td>\n",
       "      <td>CASTILLA Y LEÓN</td>\n",
       "      <td>980500422</td>\n",
       "      <td>NaN</td>\n",
       "      <td>info@hotel-convento.com</td>\n",
       "      <td>...</td>\n",
       "      <td>BRK0072</td>\n",
       "      <td>RESTAURANTES</td>\n",
       "      <td>NaN</td>\n",
       "      <td>https://facebook.com/ConventoHotelSpa</td>\n",
       "      <td>https://www.instagram.com/hotelconventospa</td>\n",
       "      <td>https://www.twitter.com/@HotelConventoSp</td>\n",
       "      <td>NaN</td>\n",
       "      <td>NaN</td>\n",
       "      <td>1165198-1-2021-09-20</td>\n",
       "      <td>http://maps.google.es/maps?f=q&amp;source=s_q&amp;hl=e...</td>\n",
       "    </tr>\n",
       "  </tbody>\n",
       "</table>\n",
       "<p>3 rows × 24 columns</p>\n",
       "</div>"
      ],
      "text/plain": [
       "                    NOMBRE EMPRESA  \\\n",
       "0   RESTAURANTE BODEGÓN CASA TOMÁS   \n",
       "1     RESTAURANTE MESÓN DON PELAYO   \n",
       "2  RESTAURANTE - HOTEL EL CONVENTO   \n",
       "\n",
       "                                           DIRECCION       CP  \\\n",
       "0                          Callejon de la Iglesia, 2  38292.0   \n",
       "1  Camino de la Hormiga s/n (Acceso Por la Calle ...  47012.0   \n",
       "2                           Carretera de la Estación  49530.0   \n",
       "\n",
       "        LOCALIDAD2   MUNICIPIO               PROVINCIA      COMUNIDADES  \\\n",
       "0  TEGUESTE CENTRO    TEGUESTE  SANTA CRUZ DE TENERIFE         CANARIAS   \n",
       "1              NaN  VALLADOLID              VALLADOLID  CASTILLA Y LEÓN   \n",
       "2              NaN     CORESES                  ZAMORA  CASTILLA Y LEÓN   \n",
       "\n",
       "    TELÉFONO    TELÉFONO2                    EMAIL  ... REFERENCIAS  \\\n",
       "0  922636971  922638007.0                      NaN  ...     BRK0072   \n",
       "1  983294259  983293435.0                      NaN  ...     BRK0072   \n",
       "2  980500422          NaN  info@hotel-convento.com  ...     BRK0072   \n",
       "\n",
       "   ACTIV. PRINCIPAL  TIPO SOC.                                       FACEBOOK  \\\n",
       "0      RESTAURANTES        NaN  https://www.facebook.com/casatomasrestaurante   \n",
       "1      RESTAURANTES        NaN                                            NaN   \n",
       "2      RESTAURANTES        NaN          https://facebook.com/ConventoHotelSpa   \n",
       "\n",
       "                                    INSTAGRAM  \\\n",
       "0                                         NaN   \n",
       "1    https://www.instagram.com/mesondonpelayo   \n",
       "2  https://www.instagram.com/hotelconventospa   \n",
       "\n",
       "                                    TWITTER  PINTEREST YOUTUBE  \\\n",
       "0                                       NaN        NaN     NaN   \n",
       "1            https://twitter.com/MDonPelayo        NaN     NaN   \n",
       "2  https://www.twitter.com/@HotelConventoSp        NaN     NaN   \n",
       "\n",
       "          ID BREKIADATA                                    URL GOOGLE MAPS  \n",
       "0  1165187-1-2021-09-20  http://maps.google.es/maps?f=q&source=s_q&hl=e...  \n",
       "1  1165193-1-2021-09-20  http://maps.google.es/maps?f=q&source=s_q&hl=e...  \n",
       "2  1165198-1-2021-09-20  http://maps.google.es/maps?f=q&source=s_q&hl=e...  \n",
       "\n",
       "[3 rows x 24 columns]"
      ]
     },
     "execution_count": 13,
     "metadata": {},
     "output_type": "execute_result"
    }
   ],
   "source": [
    "df = pd.read_excel(\"Restaurantes_es_1.xlsx\")\n",
    "df.head(3)"
   ]
  },
  {
   "cell_type": "markdown",
   "id": "29b3710f-d8c3-4933-a2c1-96960041fa22",
   "metadata": {},
   "source": [
    "#### Datos dinámicos"
   ]
  },
  {
   "cell_type": "code",
   "execution_count": 17,
   "id": "5287c461-c163-474f-945e-240d70ad765f",
   "metadata": {},
   "outputs": [],
   "source": [
    "url = \"https://datos.madrid.es/egob/catalogo/300107-0-agenda-actividades-eventos.csv\""
   ]
  },
  {
   "cell_type": "code",
   "execution_count": 19,
   "id": "7ae59cd4-7b81-422e-84ea-14ae381bf7e2",
   "metadata": {},
   "outputs": [
    {
     "data": {
      "text/plain": [
       "<Response [200]>"
      ]
     },
     "execution_count": 19,
     "metadata": {},
     "output_type": "execute_result"
    }
   ],
   "source": [
    "rq.api.get(url)"
   ]
  },
  {
   "cell_type": "code",
   "execution_count": 22,
   "id": "65ece68a-ea85-453d-98fb-6c0e383af39a",
   "metadata": {},
   "outputs": [],
   "source": [
    "resp = rq.api.get(url)"
   ]
  },
  {
   "cell_type": "code",
   "execution_count": 23,
   "id": "bea072f8-f842-4b76-ba75-b23fb7b37f81",
   "metadata": {},
   "outputs": [
    {
     "data": {
      "text/plain": [
       "{'X-Frame-Options': 'SAMEORIGIN', 'X-XSS-Protection': '1; mode=block', 'X-Content-Type-Options': 'nosniff', 'Cache-Control': 'no-cache', 'OT-force-Account-Verify': 'true', 'Content-disposition': 'attachment;filename=300107-0-agenda-actividades-eventos.csv', 'Content-Type': 'text/csv;charset=ISO-8859-1', 'Content-Encoding': 'gzip', 'X-UA-Compatible': 'IE=8', 'Date': 'Thu, 21 Oct 2021 14:56:52 GMT', 'Transfer-Encoding': 'chunked', 'Connection': 'keep-alive, Transfer-Encoding', 'Vary': 'Accept-Encoding', 'Set-Cookie': 'JSESSIONID=A05C86629487F3212017206FA5D8FF0D.app04; Path=/; Secure; HttpOnly, ROUTEID=.app04; path=/', 'Strict-Transport-Security': 'max-age=15768000'}"
      ]
     },
     "execution_count": 23,
     "metadata": {},
     "output_type": "execute_result"
    }
   ],
   "source": [
    "resp.headers"
   ]
  },
  {
   "cell_type": "code",
   "execution_count": null,
   "id": "95931581-683b-4139-9121-e2bd8112c539",
   "metadata": {},
   "outputs": [],
   "source": [
    "resp.content"
   ]
  },
  {
   "cell_type": "code",
   "execution_count": 36,
   "id": "7b2808e8-6bca-4c1e-b7f9-21045c1f9f46",
   "metadata": {},
   "outputs": [],
   "source": [
    "tablaDinamica = open(\"conc_bd_dinamica.csv\", \"w\")"
   ]
  },
  {
   "cell_type": "code",
   "execution_count": 37,
   "id": "ff6b52cc-8c95-4910-8696-bec518359c78",
   "metadata": {},
   "outputs": [
    {
     "data": {
      "text/plain": [
       "1000904"
      ]
     },
     "execution_count": 37,
     "metadata": {},
     "output_type": "execute_result"
    }
   ],
   "source": [
    "tablaDinamica.write(resp.text)"
   ]
  },
  {
   "cell_type": "code",
   "execution_count": null,
   "id": "c91dae18-fd99-46d8-9bbb-ee4de253da42",
   "metadata": {},
   "outputs": [],
   "source": [
    "less conc_bd_dinamica.csv"
   ]
  },
  {
   "cell_type": "code",
   "execution_count": null,
   "id": "31ba1c8d-44b0-48c2-bef9-86c7371d1f8d",
   "metadata": {},
   "outputs": [],
   "source": []
  }
 ],
 "metadata": {
  "kernelspec": {
   "display_name": "Python 3",
   "language": "python",
   "name": "python3"
  },
  "language_info": {
   "codemirror_mode": {
    "name": "ipython",
    "version": 3
   },
   "file_extension": ".py",
   "mimetype": "text/x-python",
   "name": "python",
   "nbconvert_exporter": "python",
   "pygments_lexer": "ipython3",
   "version": "3.8.8"
  }
 },
 "nbformat": 4,
 "nbformat_minor": 5
}
