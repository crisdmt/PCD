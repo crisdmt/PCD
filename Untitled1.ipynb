{
 "cells": [
  {
   "cell_type": "code",
   "execution_count": 1,
   "id": "43cb57a9-f7d0-4a50-a7c2-6bec81116669",
   "metadata": {},
   "outputs": [
    {
     "name": "stderr",
     "output_type": "stream",
     "text": [
      "Cloning into 'CovidAPP'...\n"
     ]
    }
   ],
   "source": [
    "! git clone https://github.com/AlvaroFarreny/CovidAPP.git"
   ]
  },
  {
   "cell_type": "code",
   "execution_count": null,
   "id": "07dae39f-0072-4d28-91b3-bd97af051ed1",
   "metadata": {},
   "outputs": [],
   "source": []
  }
 ],
 "metadata": {
  "kernelspec": {
   "display_name": "Python 3",
   "language": "python",
   "name": "python3"
  },
  "language_info": {
   "codemirror_mode": {
    "name": "ipython",
    "version": 3
   },
   "file_extension": ".py",
   "mimetype": "text/x-python",
   "name": "python",
   "nbconvert_exporter": "python",
   "pygments_lexer": "ipython3",
   "version": "3.8.8"
  }
 },
 "nbformat": 4,
 "nbformat_minor": 5
}
